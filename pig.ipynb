{
 "cells": [
  {
   "cell_type": "code",
   "execution_count": 3,
   "metadata": {
    "collapsed": false
   },
   "outputs": [],
   "source": [
    "import random\n",
    "import math\n",
    "import statistics as st\n",
    "import matplotlib.pyplot as plt\n",
    "%matplotlib inline"
   ]
  },
  {
   "cell_type": "code",
   "execution_count": 93,
   "metadata": {
    "collapsed": false
   },
   "outputs": [],
   "source": [
    "class Pig:\n",
    "    \"\"\"Responsibilities:\n",
    "    - Establish a number of turns\n",
    "    - Count turns\n",
    "    - Roll a die\n",
    "    - Checks for end of game\n",
    "    - Keeps score\n",
    "    - process roll results\"\"\"\n",
    "    def __init__(self, turns = 7):\n",
    "        self.turns = turns\n",
    "        self.reset()\n",
    "        \n",
    "    def reset(self):    \n",
    "        self.turn = 0\n",
    "        self.score = 0\n",
    "    \n",
    "    def roll(sides=6):\n",
    "        return (random.randint(1, 6))\n",
    "    \n",
    "    def game_on(self):\n",
    "        if self.turn < self.turns:\n",
    "            return True\n",
    "        else:\n",
    "            return False\n",
    "        \n",
    "    def inc_turn(self):\n",
    "        self.turn += 1"
   ]
  },
  {
   "cell_type": "code",
   "execution_count": 135,
   "metadata": {
    "collapsed": false
   },
   "outputs": [],
   "source": [
    "class Player:\n",
    "    \"\"\"Responsibilities:\n",
    "    - Takes turns, makes decision with\n",
    "    - Processes results\n",
    "    - Decides course of action\n",
    "    \n",
    "    Collaborator:\n",
    "    - Pig\n",
    "    \"\"\"\n",
    "\n",
    "    def __init__(self, max_roll=1, max_tally=6, game = Pig()):\n",
    "        self.max_roll = max_roll\n",
    "        self.max_tally = max_tally\n",
    "        self.game = game\n",
    "        self.reset()\n",
    "        \n",
    "    def reset(self):\n",
    "        self.score = 0\n",
    "        self.game.reset()\n",
    "        \n",
    "    def turn(self):\n",
    "        curr_tally = 0\n",
    "        curr_roll = 0\n",
    "        while curr_tally < self.max_tally and curr_roll < self.max_roll:\n",
    "                result = self.game.roll()\n",
    "                #print(result, end=\" \")\n",
    "                if result > 1:\n",
    "                    curr_tally += result\n",
    "                else:\n",
    "                    return 0\n",
    "                curr_roll += 1\n",
    "        return curr_tally\n",
    "        \n",
    "    def match(self):\n",
    "        self.reset()\n",
    "        while self.game.game_on():\n",
    "            self.game.score += self.turn()\n",
    "            #print(self.get_score())\n",
    "            self.game.inc_turn()\n",
    "        return self.get_score()\n",
    "            \n",
    "\n",
    "    def get_score(self):\n",
    "        return self.game.score"
   ]
  },
  {
   "cell_type": "code",
   "execution_count": null,
   "metadata": {
    "collapsed": true
   },
   "outputs": [],
   "source": []
  },
  {
   "cell_type": "code",
   "execution_count": 150,
   "metadata": {
    "collapsed": false
   },
   "outputs": [
    {
     "name": "stdout",
     "output_type": "stream",
     "text": [
      "[23.35781, 38.90027, 48.62117, 53.95414, 56.1795, 56.20438, 54.65927, 52.25558]\n"
     ]
    }
   ],
   "source": [
    "itr = 100000\n",
    "data = [sum([Player(x, x*6).match() for _ in range(itr)])/itr for x in range(1,9)]\n",
    "#[[sum([Player(rolls, rolls*6).match()])/20 for _ in range(20)] for rolls in range(1, 7)]\n",
    "print(data)"
   ]
  },
  {
   "cell_type": "code",
   "execution_count": null,
   "metadata": {
    "collapsed": false
   },
   "outputs": [],
   "source": []
  },
  {
   "cell_type": "code",
   "execution_count": null,
   "metadata": {
    "collapsed": false
   },
   "outputs": [],
   "source": []
  },
  {
   "cell_type": "code",
   "execution_count": null,
   "metadata": {
    "collapsed": true
   },
   "outputs": [],
   "source": [
    "    \n",
    "    "
   ]
  }
 ],
 "metadata": {
  "kernelspec": {
   "display_name": "Python 3",
   "language": "python",
   "name": "python3"
  },
  "language_info": {
   "codemirror_mode": {
    "name": "ipython",
    "version": 3
   },
   "file_extension": ".py",
   "mimetype": "text/x-python",
   "name": "python",
   "nbconvert_exporter": "python",
   "pygments_lexer": "ipython3",
   "version": "3.4.3"
  }
 },
 "nbformat": 4,
 "nbformat_minor": 0
}
